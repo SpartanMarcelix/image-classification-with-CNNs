{
 "cells": [
  {
   "cell_type": "markdown",
   "metadata": {},
   "source": [
    "Image Classification with CNNs"
   ]
  },
  {
   "cell_type": "code",
   "execution_count": 1,
   "metadata": {},
   "outputs": [],
   "source": [
    "# import libraries\n",
    "import torch\n",
    "import torch.nn as nn\n",
    "import torchvision.transforms as transforms\n",
    "import torchvision.datasets as datasets"
   ]
  },
  {
   "cell_type": "code",
   "execution_count": 2,
   "metadata": {},
   "outputs": [],
   "source": [
    "# define the parameters for data (input) normalization\n",
    "# These values are pre-computed and available in the mean\n",
    "# dataset website\n",
    "mean_gray = 0.1307 \n",
    "stddev_gray = 0.3081\n",
    "\n",
    "# input[channel] = ( (input[channel] - mean[channel]) / std[channel])\n",
    "\n",
    "transforms = transforms.Compose([transforms.ToTensor(), # composes a set of transformations (we first convert images to a tensor and then normalize the tensor)\n",
    "                                 transforms.Normalize((mean_gray),(stddev_gray))]) # Normalize the input images (the dataset)\n",
    "\n",
    "# Now we load/download the datasets for train and test\n",
    "\n",
    "train_dataset = datasets.MNIST(root = \"./data\", # where to save the dataset\n",
    "                                train=True, # is it for training purposes?\n",
    "                                transform=transforms, # how to transform the image to a tensor?\n",
    "                                download=True) # Do we want to download it?\n",
    "\n",
    "test_dataset = datasets.MNIST(root = \"./data\",\n",
    "                                train=False, # This will download the test dataset\n",
    "                                transform=transforms)\n",
    "# in the test_dataset it is not necessary to download the dataset\n",
    "# rather we will LOAD IT FROM PYTORCH"
   ]
  },
  {
   "cell_type": "markdown",
   "metadata": {},
   "source": [
    "Visualize some of the dataset images"
   ]
  },
  {
   "cell_type": "code",
   "execution_count": 3,
   "metadata": {},
   "outputs": [
    {
     "data": {
      "text/plain": [
       "<matplotlib.image.AxesImage at 0x1dc9e546a90>"
      ]
     },
     "execution_count": 3,
     "metadata": {},
     "output_type": "execute_result"
    },
    {
     "data": {
      "image/png": "[encoded data removed]",
      "text/plain": [
       "<Figure size 640x480 with 1 Axes>"
      ]
     },
     "metadata": {},
     "output_type": "display_data"
    }
   ],
   "source": [
    "import matplotlib.pyplot as plt # needed for image visualization\n",
    "random_img = train_dataset[20][0].numpy() * stddev_gray + mean_gray # image at index #20 the [0] element is the image, while the [1] element would be the label\n",
    "# remember that we need to convert the image to a numpy array to visualize it and we also have to denormalize it for visualization purposes\n",
    "plt.imshow(random_img.reshape(28,28), cmap= \"gray\") # show the image with matplotlib, we need to reshape the image back to its original size (28 x 28)\n"
   ]
  },
  {
   "cell_type": "code",
   "execution_count": 4,
   "metadata": {},
   "outputs": [
    {
     "name": "stdout",
     "output_type": "stream",
     "text": [
      "4\n"
     ]
    }
   ],
   "source": [
    "# print the corresponding label, just to check\n",
    "print(train_dataset[20][1])"
   ]
  },
  {
   "cell_type": "markdown",
   "metadata": {},
   "source": [
    "Create the Dataloader (we need to know the batch size)"
   ]
  },
  {
   "cell_type": "code",
   "execution_count": 5,
   "metadata": {},
   "outputs": [],
   "source": [
    "import torch.utils\n",
    "import torch.utils.data\n",
    "\n",
    "\n",
    "batch_size = 100\n",
    "train_load = torch.utils.data.DataLoader(dataset=train_dataset,\n",
    "                                         batch_size=batch_size,\n",
    "                                         shuffle=True) # shuffle the order of the images\n",
    "\n",
    "test_load = torch.utils.data.DataLoader(dataset=test_dataset,\n",
    "                                         batch_size=batch_size,\n",
    "                                         shuffle=False) # No need to shuffle since we are just testing"
   ]
  },
  {
   "cell_type": "code",
   "execution_count": 6,
   "metadata": {},
   "outputs": [
    {
     "data": {
      "text/plain": [
       "60000"
      ]
     },
     "execution_count": 6,
     "metadata": {},
     "output_type": "execute_result"
    }
   ],
   "source": [
    "# Visualize the train dataset to understand what is happening\n",
    "len(train_dataset)"
   ]
  },
  {
   "cell_type": "code",
   "execution_count": 7,
   "metadata": {},
   "outputs": [
    {
     "data": {
      "text/plain": [
       "600"
      ]
     },
     "execution_count": 7,
     "metadata": {},
     "output_type": "execute_result"
    }
   ],
   "source": [
    "# Visualize the train loader to understand what is happening\n",
    "\n",
    "len(train_load)"
   ]
  },
  {
   "cell_type": "code",
   "execution_count": 8,
   "metadata": {},
   "outputs": [
    {
     "data": {
      "text/plain": [
       "10000"
      ]
     },
     "execution_count": 8,
     "metadata": {},
     "output_type": "execute_result"
    }
   ],
   "source": [
    "# Visualize the test dataset to understand what is happening\n",
    "len(test_dataset)"
   ]
  },
  {
   "cell_type": "code",
   "execution_count": 9,
   "metadata": {},
   "outputs": [
    {
     "data": {
      "text/plain": [
       "100"
      ]
     },
     "execution_count": 9,
     "metadata": {},
     "output_type": "execute_result"
    }
   ],
   "source": [
    "# Visualize the test loader to understand what is happening\n",
    "\n",
    "len(test_load)"
   ]
  },
  {
   "cell_type": "markdown",
   "metadata": {},
   "source": [
    "Building the CNN (Starting with defining the class)"
   ]
  },
  {
   "cell_type": "code",
   "execution_count": 15,
   "metadata": {},
   "outputs": [],
   "source": [
    "class CNN(nn.Module):\n",
    "    def __init__(self):\n",
    "        super(CNN,self).__init__()\n",
    "        # Same padding --> input_size = output_size\n",
    "        # Same padding = (filter_size - 1) / 2\n",
    "        self.cnn1 = nn.Conv2d(in_channels=1, out_channels=8, kernel_size=3, stride=1, padding=1) # defining the first convolutional layer, input channel is 1 becasue grayscale images, out_channels is the number of filters/feature maps we want, kernel_size refers to the size of each filter for the convolution operation, stride is the no of pixels it moves in the convolution operation we use 1 to avoid downsampling, padding we use the formula (filter_size - 1 / 2)\n",
    "        # The output size of each of the 8 feature maps:\n",
    "        # [(input_size - filter_size + 2(padding))/ stride] + 1 = [(28 - 3 + 2)/1] + 1 = 28\n",
    "        # Now we apply batch normalization to the first layer\n",
    "        self.batchnorm1 = nn.BatchNorm2d(8) # 8 refers to the no of feature maps\n",
    "        # Activation function for all conv layer\n",
    "        self.relu = nn.ReLU() \n",
    "        # Maxpooling for all layers\n",
    "        self.maxpool = nn.MaxPool2d(kernel_size=2) # reduce by 2\n",
    "        # The output size = 28/2 = 14\n",
    "        self.cnn2 = nn.Conv2d(in_channels=8, out_channels=32, kernel_size=5, stride=1, padding=2)\n",
    "        # Output size of each of 32 feature maps = 14\n",
    "        self.batchnorm2 = nn.BatchNorm2d(32)\n",
    "        # After this second batch norm we perform the same max pooling again thus\n",
    "        # reducing the size of the feature maps to 7x7\n",
    "        # Finally we specify the linear layers for when we flatten out the feature maps\n",
    "        # First linear layer size = 7 x 7 x 32 = 1568\n",
    "        self.fc1 = nn.Linear(1568,600) # thus input size is 1568\n",
    "        # It is recommended to apply dropout between linear layers to avoid overfitting\n",
    "        self.dropout = nn.Dropout(p=0.5) # p is probability of dropout, in this case 50%\n",
    "        # Final linear layer is the classifictaion layer with a size of 10\n",
    "        self.fc2 = nn.Linear(600,10)\n",
    "\n",
    "    def forward(self,x): # forward propagation function (x is input images)\n",
    "        # Convolutional part\n",
    "        # first conv\n",
    "        out = self.cnn1(x)\n",
    "        out = self.batchnorm1(out)\n",
    "        out = self.relu(out)\n",
    "        # first max pooling\n",
    "        out = self.maxpool(out)\n",
    "        # second conv\n",
    "        out = self.cnn2(out)\n",
    "        out = self.batchnorm2(out)\n",
    "        out = self.relu(out)\n",
    "        # second max pooling\n",
    "        out = self.maxpool(out)\n",
    "        # Flatten the output (7x7x32) = 1568\n",
    "        # remember we also need to  take into account the batch size\n",
    "        # in this case its 100, so we go (100 rows,1568 columns)\n",
    "        out = out.view(-1,1568) # we can use -1 instead of 100\n",
    "        # linear part\n",
    "        # first linear layer\n",
    "        out = self.fc1(out)\n",
    "        out = self.relu(out)\n",
    "        out = self.dropout(out)\n",
    "        # second linear layer (output)\n",
    "        out = self.fc2(out)\n",
    "        return out\n",
    "        "
   ]
  },
  {
   "cell_type": "markdown",
   "metadata": {},
   "source": [
    "Build the object, define optimizer and loss function"
   ]
  },
  {
   "cell_type": "code",
   "execution_count": 16,
   "metadata": {},
   "outputs": [],
   "source": [
    "# instance an object of the model class\n",
    "model = CNN()\n",
    "# check if GPU is available\n",
    "CUDA = torch.cuda.is_available()\n",
    "\n",
    "if CUDA: # if we have a gpu move the model there\n",
    "    model = model.cuda()\n",
    "\n",
    "# define loss function (We use cross entropy loss)\n",
    "\n",
    "loss_fn = nn.CrossEntropyLoss() # we use it because we are gonna preddict probabilities with softmax\n",
    "\n",
    "# define the optimizer\n",
    "\n",
    "optimizer = torch.optim.Adam(model.parameters(), lr = 0.01) # model.parameters() are the weights of the model\n"
   ]
  },
  {
   "cell_type": "markdown",
   "metadata": {},
   "source": [
    "(Optional) Understanding what is happening in the propagation"
   ]
  },
  {
   "cell_type": "code",
   "execution_count": 28,
   "metadata": {},
   "outputs": [
    {
     "name": "stdout",
     "output_type": "stream",
     "text": [
      "For one iteration, this is what happens\n",
      "\n",
      "Input Shape: torch.Size([100, 1, 28, 28])\n",
      "First dimension is batch size = 100, second is # of channels = 1, \n",
      "the other two are the dimensions of the image = 28 x 28,\n",
      "we always need 4d tensors to propagate\n",
      "\n",
      "Labels Shape: torch.Size([100])\n",
      "Output Shape: torch.Size([100, 10])\n",
      "Predicted Shape: torch.Size([100])\n",
      "Predicted Tensor:\n",
      "tensor([6, 0, 7, 6, 6, 5, 9, 6, 1, 6, 5, 6, 0, 5, 6, 6, 6, 6, 1, 6, 8, 6, 5, 6,\n",
      "        0, 5, 6, 1, 7, 6, 9, 0, 6, 0, 7, 6, 6, 6, 6, 9, 6, 0, 7, 6, 9, 6, 0, 6,\n",
      "        6, 6, 0, 5, 5, 5, 5, 6, 6, 6, 0, 6, 1, 0, 6, 6, 6, 6, 9, 6, 6, 5, 5, 0,\n",
      "        6, 5, 0, 6, 5, 6, 6, 1, 5, 7, 5, 4, 6, 9, 4, 5, 0, 0, 6, 5, 5, 6, 6, 0,\n",
      "        5, 6, 0, 1], device='cuda:0')\n",
      "correct predictions: tensor(16, device='cuda:0')\n"
     ]
    }
   ],
   "source": [
    "iteration = 0\n",
    "correct = 0\n",
    "\n",
    "for i,(inputs,labels) in enumerate(train_load):\n",
    "\n",
    "    if CUDA:\n",
    "        inputs = inputs.cuda()\n",
    "        labels = labels.cuda()\n",
    "\n",
    "    print(\"For one iteration, this is what happens\\n\")\n",
    "    # Each teansor propagated through the network should be 4d (batch_size, channles, rows, cols)\n",
    "    print(\"Input Shape:\", inputs.shape)\n",
    "    print(\"First dimension is batch size = 100, second is # of channels = 1, \\nthe other two are the dimensions of the image = 28 x 28,\\nwe always need 4d tensors to propagate\")\n",
    "    print(\"\\nLabels Shape:\", labels.shape)\n",
    "    output = model(inputs)\n",
    "    print(\"Output Shape:\", output.shape)\n",
    "    _,predicted = torch.max(output,1)\n",
    "    print(\"Predicted Shape:\", predicted.shape)\n",
    "    print(\"Predicted Tensor:\")\n",
    "    print(predicted)\n",
    "    correct += (predicted == labels).sum()\n",
    "    print(\"correct predictions:\", correct)\n",
    "    break"
   ]
  },
  {
   "cell_type": "markdown",
   "metadata": {},
   "source": [
    "Train the CNN"
   ]
  },
  {
   "cell_type": "code",
   "execution_count": null,
   "metadata": {},
   "outputs": [],
   "source": [
    "# training the CNN\n",
    "num_epochs = 10 \n",
    "\n",
    "# loss and accuracy lists\n",
    "train_loss = []\n",
    "train_accuracy = []\n",
    "\n",
    "test_loss = []\n",
    "test_accuracy = []\n",
    "\n",
    "# as for the training\n",
    "\n",
    "for epoch in range(num_epochs):\n",
    "    correct = 0 # number of correct predictions in epoch\n",
    "    iterations = 0 # number of iterations in epoch\n",
    "    iter_loss = 0.0 # loss for 1 iteration\n",
    "\n",
    "    # we need to set the model in \"training mode\" because we used dropout and batch norm\n",
    "\n",
    "    model.train()\n",
    "\n",
    "    for i,(inputs,labels) in enumerate(train_load):\n",
    "\n",
    "        if CUDA: # pass inputs and labels to gpu\n",
    "            inputs = inputs.cuda()\n",
    "            labels = labels.cuda()\n",
    "\n",
    "        outputs = model(inputs) # pass the batch through the network\n",
    "        loss = loss_fn(outputs,labels) # calculate the loss (Cross Entropy Loss)\n",
    "        iter_loss += loss.item() # save the loss for this specific iteration\n",
    "\n",
    "        optimizer.zero_grad() # clear the gradient for the backpropagation\n",
    "        loss.backward() # perform backpropagation\n",
    "        optimizer.step() # update the weights\n",
    "\n",
    "        _,predicted = torch.max(outputs,1) # get the actual prediction (index) from the probability distribution\n",
    "        correct += (predicted == labels).sum().item() # get the amount of correct predictions in this iteration\n",
    "        \n",
    "        iterations += 1\n",
    "\n",
    "    # save the results in the lists we created (once for each epoch)\n",
    "\n",
    "    train_loss.append(iter_loss/iterations)\n",
    "    train_accuracy.append(correct / len(train_dataset))\n"
   ]
  }
 ],
 "metadata": {
  "kernelspec": {
   "display_name": ".venv",
   "language": "python",
   "name": "python3"
  },
  "language_info": {
   "codemirror_mode": {
    "name": "ipython",
    "version": 3
   },
   "file_extension": ".py",
   "mimetype": "text/x-python",
   "name": "python",
   "nbconvert_exporter": "python",
   "pygments_lexer": "ipython3",
   "version": "3.9.13"
  }
 },
 "nbformat": 4,
 "nbformat_minor": 2
}
